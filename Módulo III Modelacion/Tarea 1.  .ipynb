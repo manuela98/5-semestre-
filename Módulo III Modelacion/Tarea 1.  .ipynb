{
 "cells": [
  {
   "cell_type": "markdown",
   "metadata": {},
   "source": [
    "#### Consta de un pueto con un unico punto de desembarco,al cual llegan barcon en un intervalo de tiempo dado.\n",
    "\n",
    "Los datos proporcionados corresponden a las variables:\n",
    "\n",
    "1. Tiempo de llegada entre barcos : T\n",
    "2. Tiempo de desembarque : Td  \n",
    "  \n",
    "  ####  INCOGNITAS:  \n",
    "    \n",
    "      \n",
    "1. Tiempo de espera por cada barco : Te \n",
    "2. Tiempo inactividad : Ti\n",
    "3. Cola más larga : C\n",
    "4. Tiempo espera promedio : Te_prom\n",
    "5. Tiempos por barco : Tb"
   ]
  },
  {
   "cell_type": "code",
   "execution_count": 20,
   "metadata": {
    "scrolled": false
   },
   "outputs": [
    {
     "name": "stdout",
     "output_type": "stream",
     "text": [
      "time per boat\n",
      "[ 50.  30.  90.]\n",
      "wait time\n",
      "[0.0, 0.0, 10]\n",
      "wait time average\n",
      "3.33333333333\n",
      "Inactivity time\n",
      "[70, 15, 0.0]\n",
      "maximum tail\n",
      "1\n"
     ]
    }
   ],
   "source": [
    "import numpy  as np\n",
    "\n",
    "#T = [50.,40.,70.,120.,130.]\n",
    "\n",
    "#Td = [60.,50.,80.,90.,60.]\n",
    "\n",
    "\n",
    "\n",
    "\n",
    "def Port(T,Td):\n",
    "    \n",
    "    N = len(T) #number of boats\n",
    "    \n",
    "    Te = [0.] #The first boat never waits\n",
    "\n",
    "    Ti = [T[0]] #initial inactivity, which delays the first boat\n",
    "\n",
    "    C = [0.]  #queue counter\n",
    "\n",
    "    for i in range(1,N):\n",
    "\n",
    "        if Td[i-1] > T[i]:Te += [Td[i-1] - T[i]]   \n",
    "        \n",
    "        else : \n",
    "            Te += [0.]\n",
    "\n",
    "        if T[i] > Td[i-1]+Te[i-1]: Ti += [T[i]-Td[i-1]]\n",
    "            \n",
    "        else :  \n",
    "            Ti += [0.]\n",
    "        \n",
    "        \n",
    "        if Te[i] != 0.:  C += [1]\n",
    "\n",
    "        else: \n",
    "            C+=[0.]\n",
    "            \n",
    "\n",
    "           \n",
    "            \n",
    "    return Te,Ti,C,np.array(Td)+np.array(Te),N\n",
    "\n",
    "Te,Ti,C,Tb,N = Port(T,Td)\n",
    "\n",
    "print('time per boat')\n",
    "print(Tb)\n",
    "\n",
    "\n",
    "print('wait time')\n",
    "print(Te)\n",
    "\n",
    "print('wait time average')\n",
    "print(sum(np.array(Te))/N)\n",
    "print('Inactivity time')\n",
    "print(Ti)\n",
    "\n",
    "print('maximum tail')\n",
    "print(max(C))\n",
    "\n"
   ]
  },
  {
   "cell_type": "markdown",
   "metadata": {},
   "source": [
    "### Implementación metodo Montecarlo "
   ]
  },
  {
   "cell_type": "markdown",
   "metadata": {
    "collapsed": true
   },
   "source": [
    "El metodo Montecarlo es utilizado para encontrar areas sobre la cuerva.\n",
    "\n",
    "Consiste en determinar que puntos aleatorios estan dentro de la curva,dada por una función en un intervalo dado [a,b]. \n",
    "\n",
    "Area curva = ((b-a)(B-A)*m)/n donde B es f(b),A es f(a),m son los puntos dentro de la curva y n es el número total de puntos.\n",
    "\n",
    "\n",
    "\n"
   ]
  },
  {
   "cell_type": "code",
   "execution_count": 62,
   "metadata": {},
   "outputs": [
    {
     "name": "stdout",
     "output_type": "stream",
     "text": [
      "0.329\n"
     ]
    }
   ],
   "source": [
    "import random \n",
    "\n",
    "def f(x):\n",
    "    return x**2\n",
    "\n",
    "\n",
    "\n",
    "\n",
    "\n",
    "def Area_MonteCarlo(a,b,n):\n",
    "    \n",
    "    m = 0\n",
    "    \n",
    "    Area = [5] \n",
    "    \n",
    "    for i in range(n):\n",
    "        \n",
    "       \n",
    "        \n",
    "        x = random.uniform(0,1)\n",
    "\n",
    "        y = random.uniform(0,1)\n",
    "\n",
    "        if y<f(x):\n",
    "            m+=1\n",
    "        \n",
    "        Area += [((b-a)*(f(b)-f(a))*m)/(n*1.0)]\n",
    "        \n",
    "        #if abs(Area[i-1]-Area[i])< 0.01:\n",
    "            \n",
    "         #   break\n",
    "    \n",
    "    return Area[-1]\n",
    "    \n",
    "    \n",
    "    \n",
    "print Area_MonteCarlo(0,1,1000)\n",
    "    "
   ]
  },
  {
   "cell_type": "markdown",
   "metadata": {},
   "source": [
    "## Problema propuesto en clase:\n",
    "\n",
    "Método montecarlo para figuras irregulares\n",
    "\n",
    "Consiste en tirar puntos aleatoreos a un rectangulo de area conocida que delimite el poligono y hacer la relación :\n",
    "\n",
    "Area_poligono = Area rectangulo*m/n   \n",
    "m = puntos dentro poligono  \n",
    "n = total de puntos.\n",
    "\n",
    "### Para determinar m: \n",
    "Se dibuja una linea de un punto al infinito y si cruza el area que delimita el poligono,en este caso una vez,el punto esta adentro.\n",
    "\n",
    "http://mathonweb.com/entrtain/monte/t_monte.htm\n",
    "\n"
   ]
  }
 ],
 "metadata": {
  "kernelspec": {
   "display_name": "python3",
   "language": "python",
   "name": "python3"
  },
  "language_info": {
   "codemirror_mode": {
    "name": "ipython",
    "version": 2
   },
   "file_extension": ".py",
   "mimetype": "text/x-python",
   "name": "python",
   "nbconvert_exporter": "python",
   "pygments_lexer": "ipython2",
   "version": "2.7.12"
  }
 },
 "nbformat": 4,
 "nbformat_minor": 2
}
